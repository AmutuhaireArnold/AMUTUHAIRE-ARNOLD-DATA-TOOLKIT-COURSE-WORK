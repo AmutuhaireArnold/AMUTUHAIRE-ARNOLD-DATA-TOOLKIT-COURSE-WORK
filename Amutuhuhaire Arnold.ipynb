import time
import random

# --- Configuration ---
CAMPUS_NAME = "UICT"
TRAVEL_MODE = "TAXI"

# --- Utility Function ---

def log_step(step_name, message, duration_minutes):
    """
    Prints the current step, a descriptive message, and the time allocated
    for that activity. Prints the stage clearly after every step.
    """
    print("--------------------------------------------------")
    print(f"[{step_name.upper()}] {message}")
    print(f"   -> Duration: {duration_minutes} minutes.")
    # In a real simulation, this is where time.sleep(duration_minutes * 60) would go.

# --- Routine Functions ---

def wake_up():
    """Step 1: Waking up and setting the motivation level."""
    log_step("Wake Up", "The alarm is buzzing! Time to start the grind.", 10)
    print("   ... Stretching and checking the schedule for the day.")
    
    # Simple conditional logic for motivation
    is_motivated = random.choice([True, False])
    if is_motivated:
        print("   ... Feeling energized and ready to tackle the day!")
    else:
        print("   ... Might need an extra cup of coffee today. Rolling out of bed.")

    return is_motivated

def get_ready(is_motivated):
    """Step 2: Personal hygiene and getting dressed."""
    # Takes longer if the student isn't motivated
    duration = 30 if is_motivated else 40
    log_step("Get Ready", "Time to shower, brush teeth, and get dressed for class.", duration)
    
    outfits = ["casual hoodie and jeans", "smart-casual button-down", "comfortable track suit"]
    selected_outfit = random.choice(outfits)
    
    print(f"   ... Quick shower completed.")
    print(f"   ... Decided on a {selected_outfit} outfit today.")

def eat_breakfast():
    """Step 3: Fueling up for the morning."""
    log_step("Breakfast", "Grabbing a quick, nutritious meal.", 15)
    
    breakfast_items = ["oatmeal with berries", "toast and eggs", "a granola bar and fruit", "just coffee"]
    meal = random.choice(breakfast_items)
    
    print(f"   ... Eating: {meal}. Reading a few news headlines.")
    print("   ... Packing the backpack: laptop, notebook, and water bottle confirmed.")

def commute_to_campus():
    """Step 4: Traveling from home to the campus location."""
    travel_time = random.randint(25, 45) # Random travel time simulation
    log_step("Commute", f"Leaving the house and starting the journey via {TRAVEL_MODE}.", travel_time)
    
    traffic = random.choice(["light traffic", "moderate delays", "unexpected heavy traffic"])
    print(f"   ... Current road conditions: {traffic}.")
    
    if traffic == "unexpected heavy traffic":
        print("   ... Texting to let the study group know about the delay.")
    print(f"   ... Listening to a podcast or reviewing notes during the {TRAVEL_MODE} ride.")

def arrive_at_campus():
    """Step 5: Final destination reached."""
    log_step("Arrived", f"Stepping out of the {TRAVEL_MODE} and walking into {CAMPUS_NAME}.", 5)
    print("   ... Taking a moment to find the first class building.")
    print(f"   ... Successfully completed the morning routine! Ready for the first lecture.")
    print("--------------------------------------------------")


# --- Main Program Execution ---

def run_morning_routine():
    """Orchestrates the entire sequence of morning events."""
    print("--------------------------------------------------")
    print(f"SIMULATION START: Heading to {CAMPUS_NAME}")
    print("--------------------------------------------------")
    
    # Run all sequential steps
    motivated_status = wake_up()
    get_ready(motivated_status)
    eat_breakfast()
    commute_to_campus()
    arrive_at_campus()

    print("\n[ROUTINE COMPLETE] Welcome to Campus!")
    print("--------------------------------------------------")

if __name__ == "__main__":
    run_morning_routine()
