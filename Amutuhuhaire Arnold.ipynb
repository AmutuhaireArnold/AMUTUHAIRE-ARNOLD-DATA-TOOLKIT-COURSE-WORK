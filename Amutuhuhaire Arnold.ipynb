{
 "cells": [
  {
   "cell_type": "code",
   "execution_count": 2,
   "id": "e6543c39-6b82-401a-bdbe-361940b70197",
   "metadata": {},
   "outputs": [
    {
     "name": "stdout",
     "output_type": "stream",
     "text": [
      "Uppercase: AMUTUHAIRE ARNOLD\n"
     ]
    }
   ],
   "source": [
    "my_name = 'AMUTUHAIRE ARNOLD'\n",
    "print(f'Uppercase: {my_name.upper()}')\n"
   ]
  },
  {
   "cell_type": "code",
   "execution_count": 3,
   "id": "f798e795-bd82-40d4-be3f-9255202f97bc",
   "metadata": {},
   "outputs": [
    {
     "name": "stdout",
     "output_type": "stream",
     "text": [
      "The first fruit is: Apple\n",
      "The last fruit is: Grape\n"
     ]
    }
   ],
   "source": [
    "fruits = ['Apple', 'Banana', 'Orange', 'Strawberry', 'Grape']\n",
    "\n",
    "print(\"The first fruit is:\", fruits[0])\n",
    "\n",
    "print(\"The last fruit is:\", fruits[-1])\n"
   ]
  },
  {
   "cell_type": "code",
   "execution_count": 8,
   "id": "3ebded85-6405-424a-947d-2811da823b52",
   "metadata": {},
   "outputs": [
    {
     "name": "stdout",
     "output_type": "stream",
     "text": [
      "Amutuhaire Arnold\n"
     ]
    }
   ],
   "source": [
    "student = {\n",
    "    \"name\": \"Amutuhaire Arnold\",\n",
    "    \"age\": 23,\n",
    "    \"course\": \"Data Science\"\n",
    "}\n",
    "\n",
    "print(student[\"name\"])\n"
   ]
  },
  {
   "cell_type": "code",
   "execution_count": 10,
   "id": "36a06f32-13d5-4d01-9e6f-1b944076cd32",
   "metadata": {},
   "outputs": [
    {
     "name": "stdout",
     "output_type": "stream",
     "text": [
      "nce\n"
     ]
    }
   ],
   "source": [
    "text = \"DataScience\"\n",
    "print(text[-3:])"
   ]
  },
  {
   "cell_type": "code",
   "execution_count": 11,
   "id": "97162bf9-4818-4171-8afe-39648847753e",
   "metadata": {},
   "outputs": [
    {
     "name": "stdout",
     "output_type": "stream",
     "text": [
      "python is fun\n"
     ]
    }
   ],
   "source": [
    "\n",
    "my_sentence = \"python is fun\"\n",
    "\n",
    "print(my_sentence)"
   ]
  },
  {
   "cell_type": "code",
   "execution_count": null,
   "id": "e5f164ad-5517-4a89-97df-8393a2c73d4b",
   "metadata": {},
   "outputs": [],
   "source": []
  }
 ],
 "metadata": {
  "kernelspec": {
   "display_name": "Python [conda env:base] *",
   "language": "python",
   "name": "conda-base-py"
  },
  "language_info": {
   "codemirror_mode": {
    "name": "ipython",
    "version": 3
   },
   "file_extension": ".py",
   "mimetype": "text/x-python",
   "name": "python",
   "nbconvert_exporter": "python",
   "pygments_lexer": "ipython3",
   "version": "3.13.5"
  }
 },
 "nbformat": 4,
 "nbformat_minor": 5
}
