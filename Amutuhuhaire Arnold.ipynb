CAMPUS_NAME = "UICT"
TRAVEL_MODE = "TAXI"

def log_step(step_name, message, duration_minutes):
    """Prints the current step and the time it took."""
    print(f"\n[{step_name.upper()}] {message}")
    print(f"   -> Duration: {duration_minutes} minutes.")

def wake_up():
    """Step 1: Waking up, hitting snooze (maybe), and starting the day."""
    log_step("Wake Up", "The alarm is buzzing! Time to start the grind.", 10)
    print("   ... Stretching and checking the schedule for the day.")
    
    is_motivated = random.choice([True, False])
    if is_motivated:
        print("   ... Feeling energized and ready to tackle the day!")
    else:
        print("   ... Might need an extra cup of coffee today. Rolling out of bed.")

    return is_motivated
def get_ready(is_motivated):
    """Step 2: Personal hygiene and getting dressed."""
    duration = 30 if is_motivated else 40 # Take longer if not motivated
    log_step("Get Ready", "Time to shower, brush teeth, and get dressed for class.", duration)
    
    outfits = ["casual hoodie and jeans", "smart-casual button-down", "comfortable track suit"]
    selected_outfit = random.choice(outfits)
    
    print(f"   ... Quick shower completed.")
    print(f"   ... Decided on a {selected_outfit} outfit today.")

def eat_breakfast():
    """Step 3: Fueling up for the morning."""
    log_step("Breakfast", "Grabbing a quick, nutritious meal.", 15)
    
    breakfast_items = ["oatmeal with berries", "toast and eggs", "a granola bar and fruit", "just coffee"]
    meal = random.choice(breakfast_items)
    
    print(f"   ... Eating: {meal}. Reading a few news headlines.")
    print("   ... Packing the backpack: laptop, notebook, and water bottle confirmed.")
def commute_to_campus():
    """Step 4: Traveling from home to the campus location."""
    travel_time = random.randint(25, 45) # Random travel time simulation
    log_step("Commute", f"Leaving the house and starting the journey via {TRAVEL_MODE}.", travel_time)
    
    traffic = random.choice(["light traffic", "moderate delays", "unexpected heavy traffic"])
    print(f"   ... Current road conditions: {traffic}.")
    
    if traffic == "unexpected heavy traffic":
        print("   ... Better check the train schedule or a detour!")
    print(f"   ... Listening to a podcast or reviewing notes during the ride.")

def arrive_at_campus():
    """Step 5: Final destination reached."""
    log_step("Arrived", f"Stepping off the {TRAVEL_MODE} and walking into {CAMPUS_NAME}.", 5)
    print("   ... Taking a moment to find the first class building.")
    print(f"   ... Successfully completed the morning routine! Ready for the first lecture.")
def arrive_at_campus():
    """Step 5: Final destination reached."""
    log_step("Arrived", f"Stepping off the {TRAVEL_MODE} and walking into {CAMPUS_NAME}.", 5)
    print("   ... Taking a moment to find the first class building.")
    print(f"   ... Successfully completed the morning routine! Ready for the first lecture.")

def run_morning_routine():
    """Orchestrates the entire sequence of morning events."""
    print("--------------------------------------------------")
    print(f"STARTING MORNING ROUTINE: Heading to {CAMPUS_NAME}")
    print("--------------------------------------------------")
    
    # Step 1
    motivated_status = wake_up()
    
    # Step 2
    get_ready(motivated_status)
    
    # Step 3
 eat_breakfast()
    
    # Step 4
    commute_to_campus()
    
    # Step 5
    arrive_at_campus()

    print("\n--------------------------------------------------")
    print("ROUTINE COMPLETE. Welcome to Campus!")
    print("--------------------------------------------------")

if __name__ == "__main__":
    run_morning_routine()
    
